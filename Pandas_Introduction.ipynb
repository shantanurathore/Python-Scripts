{
 "cells": [
  {
   "cell_type": "code",
   "execution_count": 2,
   "metadata": {},
   "outputs": [
    {
     "name": "stdout",
     "output_type": "stream",
     "text": [
      "0    1.0\n",
      "1    3.0\n",
      "2    5.0\n",
      "3    NaN\n",
      "4    6.0\n",
      "5    8.0\n",
      "dtype: float64\n"
     ]
    }
   ],
   "source": [
    "import pandas as pd\n",
    "import numpy as np\n",
    "import matplotlib.pyplot as plt\n",
    "#np.nan nan here is non value/blank\n",
    "s = pd.Series([1,3,5,np.nan,6,8])\n",
    "print(s)"
   ]
  },
  {
   "cell_type": "code",
   "execution_count": 9,
   "metadata": {},
   "outputs": [
    {
     "name": "stdout",
     "output_type": "stream",
     "text": [
      "DatetimeIndex(['2013-01-01', '2013-01-02', '2013-01-03', '2013-01-04',\n",
      "               '2013-01-05', '2013-01-06'],\n",
      "              dtype='datetime64[ns]', freq='D')\n",
      "                   1         2         3         4\n",
      "2013-01-01 -0.118458 -0.393127 -0.131228  0.467963\n",
      "2013-01-02  0.607043 -0.176970 -0.291673 -1.061518\n",
      "2013-01-03  0.649627 -0.673273 -0.799114 -2.460824\n",
      "2013-01-04 -1.219809  0.426360 -1.370880  0.446507\n",
      "2013-01-05  0.339417  0.823744 -0.915061  0.121336\n",
      "2013-01-06 -1.035726 -0.430565 -0.839465 -0.532649\n"
     ]
    }
   ],
   "source": [
    "#date_range is range of dates. method in pandas library\n",
    "dates = pd.date_range('20130101', periods=6)\n",
    "print(dates)\n",
    "\n",
    "#creating a datafram\n",
    "#notice index parameter - row index and columns parameter - column name - column names can be only 1 character long\n",
    "#random number \n",
    "df = pd.DataFrame(np.random.randn(6,4), index=dates, columns=list('1234'))\n",
    "print(df)"
   ]
  },
  {
   "cell_type": "code",
   "execution_count": 10,
   "metadata": {},
   "outputs": [
    {
     "name": "stdout",
     "output_type": "stream",
     "text": [
      "     A          B    C  D      E    F\n",
      "0  1.0 2013-01-02  1.0  3   test  foo\n",
      "1  1.0 2013-01-02  1.0  3  train  foo\n",
      "2  1.0 2013-01-02  1.0  3   test  foo\n",
      "3  1.0 2013-01-02  1.0  3  train  foo\n"
     ]
    }
   ],
   "source": [
    "#Creating a data frame by passing a dictionary\n",
    "#Keys make the columns\n",
    "#you can call functions in values\n",
    "df2 = pd.DataFrame({ 'A' : 1.,\n",
    "                         'B' : pd.Timestamp('20130102'),\n",
    "                         'C' : pd.Series(1,index=list(range(4)),dtype='float32'),\n",
    "                         'D' : np.array([3] * 4,dtype='int32'),\n",
    "                         'E' : pd.Categorical([\"test\",\"train\",\"test\",\"train\"]),\n",
    "                         'F' : 'foo' })\n",
    "print(df2)"
   ]
  },
  {
   "cell_type": "code",
   "execution_count": null,
   "metadata": {
    "collapsed": true
   },
   "outputs": [],
   "source": [
    "#SOme functions whihc can be done on the datafram\n",
    "df.describe() #quick summary statistics\n",
    "df.head() #top few lines - number can be specified\n",
    "df.tail(3) #bottom lines number can be specified\n",
    "df.index #row names\n",
    "df.columns# column names\n",
    "df.values #values in data fram\n",
    "df.T #transposing data - rows to columns and vice a versa\n",
    "df.sort_index(axis=1, ascending=False) # SOrting by an axes\n",
    "df.sort_values(by='B') # will cort only column B\n",
    "df.['A'] #gets only column A\n",
    "df.[0:3] #first three rows\n",
    "df['20130102':'20130104'] # rows with given index "
   ]
  },
  {
   "cell_type": "code",
   "execution_count": null,
   "metadata": {
    "collapsed": true
   },
   "outputs": [],
   "source": [
    "#Boolean Indexing\n",
    "df[df.A > 0] #selects all rows where A > 0\n",
    "\n",
    "df[df > 0] #Selects all values where value>0\n",
    "\n",
    "df2 = df.copy() #duplicating dataframe\n",
    "\n",
    "\n"
   ]
  },
  {
   "cell_type": "code",
   "execution_count": null,
   "metadata": {
    "collapsed": true
   },
   "outputs": [],
   "source": [
    "# Basic Statistics\n",
    "df.mean() #ignores nulls\n",
    "df.mean(1) #mean of all rows\n",
    "\n"
   ]
  }
 ],
 "metadata": {
  "kernelspec": {
   "display_name": "Python 3",
   "language": "python",
   "name": "python3"
  },
  "language_info": {
   "codemirror_mode": {
    "name": "ipython",
    "version": 3
   },
   "file_extension": ".py",
   "mimetype": "text/x-python",
   "name": "python",
   "nbconvert_exporter": "python",
   "pygments_lexer": "ipython3",
   "version": "3.6.1"
  }
 },
 "nbformat": 4,
 "nbformat_minor": 2
}
